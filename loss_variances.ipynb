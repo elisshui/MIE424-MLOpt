{
 "cells": [
  {
   "cell_type": "markdown",
   "metadata": {},
   "source": [
    "# Evaluating Experiment Results"
   ]
  },
  {
   "cell_type": "code",
   "execution_count": 15,
   "metadata": {},
   "outputs": [],
   "source": [
    "import pandas as pd\n",
    "import numpy as np"
   ]
  },
  {
   "cell_type": "markdown",
   "metadata": {},
   "source": [
    "Functions"
   ]
  },
  {
   "cell_type": "code",
   "execution_count": 16,
   "metadata": {},
   "outputs": [],
   "source": [
    "def calculate_mse(df, column_name):\n",
    "    \"\"\"\n",
    "    Function to compute mean squared error (MSE) of the loss.\n",
    "    Args:\n",
    "        - df (DataFrame): the experiment results.\n",
    "        - column_name (str): name of the column to compute MSE for\n",
    "    Returns:\n",
    "        - mse (float): mean squared error (MSE) of the loss.\n",
    "    \"\"\"\n",
    "    loss = df[column_name]\n",
    "    mean_loss = np.mean(loss)\n",
    "\n",
    "    squared_errors = (loss - mean_loss) ** 2 # calculate squared differences\n",
    "\n",
    "    mse = squared_errors.mean() # calculate the MSE\n",
    "\n",
    "    return mse"
   ]
  },
  {
   "cell_type": "markdown",
   "metadata": {},
   "source": [
    "Calculations"
   ]
  },
  {
   "cell_type": "code",
   "execution_count": 17,
   "metadata": {},
   "outputs": [],
   "source": [
    "# dictionaries to store results\n",
    "MSE_train_dict = {'Lookahead': None,\n",
    "                  'Adam': None,\n",
    "                  'SGD': None,\n",
    "                  'ADAgrad': None,\n",
    "                  'ADAdelta': None,\n",
    "                  'RMSprop': None}\n",
    "\n",
    "MSE_val_dict = {'Lookahead': None,\n",
    "                'Adam': None,\n",
    "                'SGD': None,\n",
    "                'ADAgrad': None,\n",
    "                'ADAdelta': None,\n",
    "                'RMSprop': None}"
   ]
  },
  {
   "cell_type": "code",
   "execution_count": 26,
   "metadata": {},
   "outputs": [],
   "source": [
    "lookahead_res = pd.read_csv(\"results/experiment_LH.csv\")\n",
    "adam_res = pd.read_csv(\"results/experiment_adam.csv\")\n",
    "SGD_res = pd.read_csv(\"results/experiment_SGD.csv\")\n",
    "ADAgrad_res = pd.read_csv(\"results/experiment_adagrad.csv\")\n",
    "ADAdelta_res = pd.read_csv(\"results/experiment_ADADelta.csv\")\n",
    "RMSprop_res = pd.read_csv(\"results/experiment_RMSprop.csv\")"
   ]
  },
  {
   "cell_type": "code",
   "execution_count": 32,
   "metadata": {},
   "outputs": [
    {
     "data": {
      "text/plain": [
       "{'Lookahead': 0.00015205267321863808,\n",
       " 'Adam': 9.669129512389556e-05,\n",
       " 'SGD': 6.655679653642355e-06,\n",
       " 'ADAgrad': 1.2005844536985725e-05,\n",
       " 'ADAdelta': 1.106977533608425e-05,\n",
       " 'RMSprop': 0.00011176685345954964}"
      ]
     },
     "execution_count": 32,
     "metadata": {},
     "output_type": "execute_result"
    }
   ],
   "source": [
    "MSE_train_dict[\"Lookahead\"] = calculate_mse(lookahead_res, \"train_loss\")\n",
    "MSE_train_dict[\"Adam\"] = calculate_mse(adam_res, \"train_loss\")\n",
    "MSE_train_dict[\"SGD\"] = calculate_mse(SGD_res, \"train_loss\")\n",
    "MSE_train_dict[\"ADAgrad\"] = calculate_mse(ADAgrad_res, \"train_loss\")\n",
    "MSE_train_dict[\"ADAdelta\"] = calculate_mse(ADAdelta_res, \"train_loss\")\n",
    "MSE_train_dict[\"RMSprop\"] = calculate_mse(RMSprop_res, \"train_loss\")\n",
    "\n",
    "MSE_train_dict"
   ]
  },
  {
   "cell_type": "code",
   "execution_count": 33,
   "metadata": {},
   "outputs": [
    {
     "data": {
      "text/plain": [
       "{'Lookahead': 9.505576301409163e-06,\n",
       " 'Adam': 5.323740344916366e-06,\n",
       " 'SGD': 6.6378257457403855e-06,\n",
       " 'ADAgrad': 3.6346647237145648e-06,\n",
       " 'ADAdelta': 1.1496058551358165e-05,\n",
       " 'RMSprop': 1.553136063911667e-05}"
      ]
     },
     "execution_count": 33,
     "metadata": {},
     "output_type": "execute_result"
    }
   ],
   "source": [
    "MSE_val_dict[\"Lookahead\"] = calculate_mse(lookahead_res, \"val_loss\")\n",
    "MSE_val_dict[\"Adam\"] = calculate_mse(adam_res, \"val_loss\")\n",
    "MSE_val_dict[\"SGD\"] = calculate_mse(SGD_res, \"val_loss\")\n",
    "MSE_val_dict[\"ADAgrad\"] = calculate_mse(ADAgrad_res, \"val_loss\")\n",
    "MSE_val_dict[\"ADAdelta\"] = calculate_mse(ADAdelta_res, \"val_loss\")\n",
    "MSE_val_dict[\"RMSprop\"] = calculate_mse(RMSprop_res, \"val_loss\")\n",
    "\n",
    "MSE_val_dict"
   ]
  }
 ],
 "metadata": {
  "kernelspec": {
   "display_name": "env424",
   "language": "python",
   "name": "python3"
  },
  "language_info": {
   "codemirror_mode": {
    "name": "ipython",
    "version": 3
   },
   "file_extension": ".py",
   "mimetype": "text/x-python",
   "name": "python",
   "nbconvert_exporter": "python",
   "pygments_lexer": "ipython3",
   "version": "3.11.0"
  }
 },
 "nbformat": 4,
 "nbformat_minor": 2
}
