{
 "cells": [
  {
   "cell_type": "markdown",
   "metadata": {},
   "source": [
    "# Evaluating Experiment Results"
   ]
  },
  {
   "cell_type": "code",
   "execution_count": 115,
   "metadata": {},
   "outputs": [],
   "source": [
    "import pandas as pd\n",
    "import numpy as np\n",
    "import matplotlib.pyplot as plt"
   ]
  },
  {
   "cell_type": "markdown",
   "metadata": {},
   "source": [
    "Functions"
   ]
  },
  {
   "cell_type": "code",
   "execution_count": 116,
   "metadata": {},
   "outputs": [],
   "source": [
    "def _polynomial_regression(data, degree):\n",
    "    \"\"\" \n",
    "    Function to fit the loss curve to a polynomial function.\n",
    "    Args:\n",
    "        - data (Series): the loss values to be fit\n",
    "        - degree (int): the amount of fitting\n",
    "    Returns:\n",
    "        - (Series): the values of the fitted curve\n",
    "    \"\"\"\n",
    "    coefficients = np.polyfit(data.index, data.values, degree)\n",
    "\n",
    "    return np.polyval(coefficients, data.index)"
   ]
  },
  {
   "cell_type": "code",
   "execution_count": 117,
   "metadata": {},
   "outputs": [],
   "source": [
    "def get_fitted_curve(df, col_name, degree=20, cutoff=-50, plot=False):\n",
    "    \"\"\" \n",
    "    Function to get the fitted curve and plot it if needed.\n",
    "    Args:\n",
    "        - df (DataFrame): experiment results dataframe\n",
    "        - col_name (str): name of the column containing the loss (train/val)\n",
    "        - degree (int): the amount of fitting \n",
    "        - cutoff (int): when to stop fitting to prevent overfitting\n",
    "        - plot (Boolean): whether to plot the fitted curve\n",
    "    Returns:\n",
    "        - fitted_curve (Series): the values of the fitted curve\n",
    "    \"\"\"\n",
    "    loss = df[col_name]\n",
    "\n",
    "    # loss curve trend\n",
    "    fitted_curve = _polynomial_regression(loss, degree)\n",
    "\n",
    "    # plotting fit\n",
    "    if plot:\n",
    "        plt.figure(figsize=(8, 4))\n",
    "        plt.plot(loss[:cutoff])\n",
    "        plt.plot(fitted_curve[:cutoff])\n",
    "        plt.show()\n",
    "\n",
    "    return fitted_curve"
   ]
  },
  {
   "cell_type": "code",
   "execution_count": 118,
   "metadata": {},
   "outputs": [],
   "source": [
    "def get_variance(df, col_name, fitted_curve, cutoff=-50, plot=False):\n",
    "    \"\"\" \n",
    "    Function to get the variance of the detrended loss cover.\n",
    "    Args:\n",
    "        - df (DataFrame): experiment results dataframe\n",
    "        - col_name (str): name of the column containing the loss (train/val)\n",
    "        - cutoff (int): when to stop fitting to prevent inaccuracte calculations\n",
    "        - plot (Boolean): whether to plot the detrended loss curve\n",
    "    Returns:\n",
    "        - variance (float): the variance of the detrended loss curve\n",
    "    \"\"\"\n",
    "    detrended = df[col_name][:cutoff] - fitted_curve[:cutoff]\n",
    "\n",
    "    # plotting fit\n",
    "    if plot:\n",
    "        plt.figure(figsize=(8, 4))\n",
    "        plt.plot(detrended[:cutoff])\n",
    "        plt.show()\n",
    "    \n",
    "    # calculate varinace\n",
    "    variance = np.std(detrended[:cutoff]) ** 2\n",
    "\n",
    "    return variance"
   ]
  },
  {
   "cell_type": "markdown",
   "metadata": {},
   "source": [
    "Calculations"
   ]
  },
  {
   "cell_type": "code",
   "execution_count": 119,
   "metadata": {},
   "outputs": [],
   "source": [
    "# dictionaries to store results\n",
    "MSE_train_dict = {'Lookahead': None,\n",
    "                  'Adam': None,\n",
    "                  'SGD': None,\n",
    "                  'ADAgrad': None,\n",
    "                  'ADAdelta': None,\n",
    "                  'RMSprop': None}\n",
    "\n",
    "MSE_val_dict = {'Lookahead': None,\n",
    "                'Adam': None,\n",
    "                'SGD': None,\n",
    "                'ADAgrad': None,\n",
    "                'ADAdelta': None,\n",
    "                'RMSprop': None}"
   ]
  },
  {
   "cell_type": "code",
   "execution_count": 120,
   "metadata": {},
   "outputs": [],
   "source": [
    "lookahead_res = pd.read_csv(\"results/experiment_LH.csv\")\n",
    "adam_res = pd.read_csv(\"results/experiment_adam.csv\")\n",
    "SGD_res = pd.read_csv(\"results/experiment_SGD.csv\")\n",
    "ADAgrad_res = pd.read_csv(\"results/experiment_adagrad.csv\")\n",
    "ADAdelta_res = pd.read_csv(\"results/experiment_ADADelta.csv\")\n",
    "RMSprop_res = pd.read_csv(\"results/experiment_RMSprop.csv\")"
   ]
  },
  {
   "cell_type": "code",
   "execution_count": 121,
   "metadata": {},
   "outputs": [
    {
     "name": "stderr",
     "output_type": "stream",
     "text": [
      "C:\\Users\\Eliss\\AppData\\Local\\Temp\\ipykernel_6988\\480035371.py:10: RankWarning: Polyfit may be poorly conditioned\n",
      "  coefficients = np.polyfit(data.index, data.values, degree)\n",
      "C:\\Users\\Eliss\\AppData\\Local\\Temp\\ipykernel_6988\\480035371.py:10: RankWarning: Polyfit may be poorly conditioned\n",
      "  coefficients = np.polyfit(data.index, data.values, degree)\n"
     ]
    }
   ],
   "source": [
    "LH_fit_train = get_fitted_curve(lookahead_res, 'train_loss')\n",
    "LH_var_train = get_variance(lookahead_res,'train_loss', LH_fit_train)\n",
    "\n",
    "LH_fit_val = get_fitted_curve(lookahead_res, 'val_loss')\n",
    "LH_var_val = get_variance(lookahead_res,'val_loss', LH_fit_val)"
   ]
  },
  {
   "cell_type": "code",
   "execution_count": 122,
   "metadata": {},
   "outputs": [
    {
     "name": "stderr",
     "output_type": "stream",
     "text": [
      "C:\\Users\\Eliss\\AppData\\Local\\Temp\\ipykernel_6988\\480035371.py:10: RankWarning: Polyfit may be poorly conditioned\n",
      "  coefficients = np.polyfit(data.index, data.values, degree)\n",
      "C:\\Users\\Eliss\\AppData\\Local\\Temp\\ipykernel_6988\\480035371.py:10: RankWarning: Polyfit may be poorly conditioned\n",
      "  coefficients = np.polyfit(data.index, data.values, degree)\n"
     ]
    }
   ],
   "source": [
    "adam_fit_train = get_fitted_curve(adam_res, 'train_loss')\n",
    "adam_var_train = get_variance(adam_res,'train_loss', adam_fit_train)\n",
    "\n",
    "adam_fit_val = get_fitted_curve(adam_res, 'train_loss')\n",
    "adam_var_val= get_variance(adam_res,'train_loss', adam_fit_val)"
   ]
  },
  {
   "cell_type": "code",
   "execution_count": 123,
   "metadata": {},
   "outputs": [
    {
     "name": "stderr",
     "output_type": "stream",
     "text": [
      "C:\\Users\\Eliss\\AppData\\Local\\Temp\\ipykernel_6988\\480035371.py:10: RankWarning: Polyfit may be poorly conditioned\n",
      "  coefficients = np.polyfit(data.index, data.values, degree)\n",
      "C:\\Users\\Eliss\\AppData\\Local\\Temp\\ipykernel_6988\\480035371.py:10: RankWarning: Polyfit may be poorly conditioned\n",
      "  coefficients = np.polyfit(data.index, data.values, degree)\n"
     ]
    }
   ],
   "source": [
    "SGD_fit_train = get_fitted_curve(SGD_res, 'train_loss')\n",
    "SGD_var_train = get_variance(SGD_res,'train_loss', SGD_fit_train)\n",
    "\n",
    "SGD_fit_val = get_fitted_curve(SGD_res, 'train_loss')\n",
    "SGD_var_val = get_variance(SGD_res,'train_loss', SGD_fit_val)"
   ]
  },
  {
   "cell_type": "code",
   "execution_count": 124,
   "metadata": {},
   "outputs": [
    {
     "name": "stderr",
     "output_type": "stream",
     "text": [
      "C:\\Users\\Eliss\\AppData\\Local\\Temp\\ipykernel_6988\\480035371.py:10: RankWarning: Polyfit may be poorly conditioned\n",
      "  coefficients = np.polyfit(data.index, data.values, degree)\n",
      "C:\\Users\\Eliss\\AppData\\Local\\Temp\\ipykernel_6988\\480035371.py:10: RankWarning: Polyfit may be poorly conditioned\n",
      "  coefficients = np.polyfit(data.index, data.values, degree)\n"
     ]
    }
   ],
   "source": [
    "adagrad_fit_train = get_fitted_curve(ADAgrad_res, 'train_loss')\n",
    "adagrad_var_train = get_variance(ADAgrad_res,'train_loss', adagrad_fit_train)\n",
    "\n",
    "adagrad_fit_val = get_fitted_curve(ADAgrad_res, 'train_loss')\n",
    "adagrad_var_val = get_variance(ADAgrad_res,'train_loss', adagrad_fit_val)"
   ]
  },
  {
   "cell_type": "code",
   "execution_count": 125,
   "metadata": {},
   "outputs": [
    {
     "name": "stderr",
     "output_type": "stream",
     "text": [
      "C:\\Users\\Eliss\\AppData\\Local\\Temp\\ipykernel_6988\\480035371.py:10: RankWarning: Polyfit may be poorly conditioned\n",
      "  coefficients = np.polyfit(data.index, data.values, degree)\n",
      "C:\\Users\\Eliss\\AppData\\Local\\Temp\\ipykernel_6988\\480035371.py:10: RankWarning: Polyfit may be poorly conditioned\n",
      "  coefficients = np.polyfit(data.index, data.values, degree)\n"
     ]
    }
   ],
   "source": [
    "adadelta_fit_train = get_fitted_curve(ADAdelta_res, 'train_loss')\n",
    "adadelta_var_train = get_variance(ADAdelta_res,'train_loss', adadelta_fit_train)\n",
    "\n",
    "adadelta_fit_val = get_fitted_curve(ADAdelta_res, 'train_loss')\n",
    "adadelta_var_val = get_variance(ADAdelta_res,'train_loss', adadelta_fit_val)"
   ]
  },
  {
   "cell_type": "code",
   "execution_count": 126,
   "metadata": {},
   "outputs": [
    {
     "name": "stderr",
     "output_type": "stream",
     "text": [
      "C:\\Users\\Eliss\\AppData\\Local\\Temp\\ipykernel_6988\\480035371.py:10: RankWarning: Polyfit may be poorly conditioned\n",
      "  coefficients = np.polyfit(data.index, data.values, degree)\n",
      "C:\\Users\\Eliss\\AppData\\Local\\Temp\\ipykernel_6988\\480035371.py:10: RankWarning: Polyfit may be poorly conditioned\n",
      "  coefficients = np.polyfit(data.index, data.values, degree)\n"
     ]
    }
   ],
   "source": [
    "RMS_fit_train = get_fitted_curve(RMSprop_res, 'train_loss')\n",
    "rms_var_train = get_variance(RMSprop_res,'train_loss', RMS_fit_train)\n",
    "\n",
    "RMS_fit_val = get_fitted_curve(RMSprop_res, 'train_loss')\n",
    "rms_var_val = get_variance(RMSprop_res,'train_loss', RMS_fit_val)"
   ]
  },
  {
   "cell_type": "markdown",
   "metadata": {},
   "source": [
    "Results"
   ]
  },
  {
   "cell_type": "code",
   "execution_count": 127,
   "metadata": {},
   "outputs": [
    {
     "data": {
      "text/plain": [
       "[('ADAdelta', 1.2440657986241042e-08),\n",
       " ('ADAgrad', 4.7463453344715564e-08),\n",
       " ('Adam', 4.7427242306481483e-07),\n",
       " ('Lookahead', 3.0002840274215814e-07),\n",
       " ('RMSprop', 4.5287835674191566e-07),\n",
       " ('SGD', 8.513218184985504e-09)]"
      ]
     },
     "execution_count": 127,
     "metadata": {},
     "output_type": "execute_result"
    }
   ],
   "source": [
    "MSE_train_dict[\"Lookahead\"] = LH_var_train\n",
    "MSE_train_dict[\"Adam\"] = adam_var_train\n",
    "MSE_train_dict[\"SGD\"] = SGD_var_train\n",
    "MSE_train_dict[\"ADAgrad\"] = adagrad_var_train\n",
    "MSE_train_dict[\"ADAdelta\"] = adadelta_var_train\n",
    "MSE_train_dict[\"RMSprop\"] = rms_var_train\n",
    "\n",
    "sorted(MSE_train_dict.items())"
   ]
  },
  {
   "cell_type": "code",
   "execution_count": 128,
   "metadata": {},
   "outputs": [
    {
     "data": {
      "text/plain": [
       "[('ADAdelta', 1.2440657986241042e-08),\n",
       " ('ADAgrad', 4.7463453344715564e-08),\n",
       " ('Adam', 4.7427242306481483e-07),\n",
       " ('Lookahead', 6.191772811750669e-07),\n",
       " ('RMSprop', 4.5287835674191566e-07),\n",
       " ('SGD', 8.513218184985504e-09)]"
      ]
     },
     "execution_count": 128,
     "metadata": {},
     "output_type": "execute_result"
    }
   ],
   "source": [
    "MSE_val_dict[\"Lookahead\"] = LH_var_val\n",
    "MSE_val_dict[\"Adam\"] = adam_var_val\n",
    "MSE_val_dict[\"SGD\"] = SGD_var_val\n",
    "MSE_val_dict[\"ADAgrad\"] = adagrad_var_val\n",
    "MSE_val_dict[\"ADAdelta\"] = adadelta_var_val\n",
    "MSE_val_dict[\"RMSprop\"] = rms_var_val\n",
    "\n",
    "sorted(MSE_val_dict.items())"
   ]
  }
 ],
 "metadata": {
  "kernelspec": {
   "display_name": "env424",
   "language": "python",
   "name": "python3"
  },
  "language_info": {
   "codemirror_mode": {
    "name": "ipython",
    "version": 3
   },
   "file_extension": ".py",
   "mimetype": "text/x-python",
   "name": "python",
   "nbconvert_exporter": "python",
   "pygments_lexer": "ipython3",
   "version": "3.11.0"
  }
 },
 "nbformat": 4,
 "nbformat_minor": 2
}
